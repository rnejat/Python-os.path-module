{
 "cells": [
  {
   "cell_type": "raw",
   "id": "e5d48176",
   "metadata": {},
   "source": [
    "# os.path.exists() – Returns True if path or directory does exists.\n",
    "# os.path.isfile() – Returns True if path is File.\n",
    "# os.path.isdir() – Returns True if path is Directory.\n",
    "# pathlib.Path.exists() – Returns True if path or directory does exists."
   ]
  },
  {
   "cell_type": "markdown",
   "id": "2114da0b",
   "metadata": {},
   "source": [
    "# Check If a File Exists in Python "
   ]
  },
  {
   "cell_type": "code",
   "execution_count": 10,
   "id": "87c6d619",
   "metadata": {},
   "outputs": [],
   "source": [
    "import os.path\n",
    "from os import path"
   ]
  },
  {
   "cell_type": "code",
   "execution_count": 12,
   "id": "c5ba1ce8",
   "metadata": {},
   "outputs": [
    {
     "name": "stdout",
     "output_type": "stream",
     "text": [
      "File exists:True\n",
      "File exists:False\n",
      "directory exists:False\n"
     ]
    }
   ],
   "source": [
    "def main():\n",
    "    print (\"File exists:\"+str(path.exists('roxi.ipynb')))\n",
    "    print (\"File exists:\" + str(path.exists('career.guru99.txt')))\n",
    "    print (\"directory exists:\" + str(path.exists('myDirectory')))\n",
    "if __name__==\"__main__\":\n",
    "    main()"
   ]
  },
  {
   "cell_type": "markdown",
   "id": "2e8dfdf6",
   "metadata": {},
   "source": [
    "# Check If a path is an existing file"
   ]
  },
  {
   "cell_type": "code",
   "execution_count": 14,
   "id": "0aa70a10",
   "metadata": {},
   "outputs": [
    {
     "name": "stdout",
     "output_type": "stream",
     "text": [
      "Is it File?True\n",
      "Is it File?False\n"
     ]
    }
   ],
   "source": [
    "def main():\n",
    "    print (\"Is it File?\" + str(path.isfile('roxi.ipynb')))\n",
    "    print (\"Is it File?\" + str(path.isfile('myDirectory'))) \n",
    "if __name__==\"__main__\":\n",
    "    main()"
   ]
  },
  {
   "cell_type": "markdown",
   "id": "812fdbcd",
   "metadata": {},
   "source": [
    "# Check If a path is a directory"
   ]
  },
  {
   "cell_type": "code",
   "execution_count": 17,
   "id": "2cf15ae2",
   "metadata": {},
   "outputs": [
    {
     "name": "stdout",
     "output_type": "stream",
     "text": [
      "Is it directoyr?False\n",
      "Is it directoyr?True\n"
     ]
    }
   ],
   "source": [
    "def main():    \n",
    "    print (\"Is it directoyr?\" + str(path.isdir('roxi.ipynb')))\n",
    "    print (\"Is it directoyr?\" + str(path.isdir('.ipynb_checkpoints')))   \n",
    "if __name__==\"__main__\":\n",
    "    main()"
   ]
  },
  {
   "cell_type": "markdown",
   "id": "3ce5fef9",
   "metadata": {},
   "source": [
    "# check if a folder exists "
   ]
  },
  {
   "cell_type": "code",
   "execution_count": 18,
   "id": "7bedd263",
   "metadata": {},
   "outputs": [
    {
     "name": "stdout",
     "output_type": "stream",
     "text": [
      "File not exist\n"
     ]
    }
   ],
   "source": [
    "import pathlib\n",
    "file = pathlib.Path(\"guru99.txt\")\n",
    "if file.exists ():\n",
    "    print (\"File exist\")\n",
    "else:\n",
    "    print (\"File not exist\")"
   ]
  },
  {
   "cell_type": "markdown",
   "id": "a6bc42c9",
   "metadata": {},
   "source": [
    "# Gives the last part of the path"
   ]
  },
  {
   "cell_type": "code",
   "execution_count": 21,
   "id": "7aa59138",
   "metadata": {},
   "outputs": [
    {
     "name": "stdout",
     "output_type": "stream",
     "text": [
      "My Web\n",
      "test.html\n"
     ]
    }
   ],
   "source": [
    "def main():\n",
    "    fldr = os.path.basename(\"C:\\\\Users\\\\xyz\\\\Documents\\\\My Web\")\n",
    "    print(fldr)\n",
    "    file = os.path.basename(\"C:\\\\Users\\\\xyz\\\\Documents\\\\My Web\\\\test.html\")\n",
    "    print(file)\n",
    "if __name__==\"__main__\":\n",
    "    main()"
   ]
  },
  {
   "cell_type": "markdown",
   "id": "db7d36e1",
   "metadata": {},
   "source": [
    "# gives the directory name where the folder or file is located"
   ]
  },
  {
   "cell_type": "code",
   "execution_count": 22,
   "id": "c3411110",
   "metadata": {},
   "outputs": [
    {
     "name": "stdout",
     "output_type": "stream",
     "text": [
      "C:\\Users\\xyz\\Documents\n"
     ]
    }
   ],
   "source": [
    "def main():\n",
    "    DIR = os.path.dirname(\"C:\\\\Users\\\\xyz\\\\Documents\\\\My Web Sites\")\n",
    "    print(DIR)\n",
    "if __name__==\"__main__\":\n",
    "    main()"
   ]
  },
  {
   "cell_type": "code",
   "execution_count": null,
   "id": "febe38cd",
   "metadata": {},
   "outputs": [],
   "source": []
  }
 ],
 "metadata": {
  "kernelspec": {
   "display_name": "Python 3",
   "language": "python",
   "name": "python3"
  },
  "language_info": {
   "codemirror_mode": {
    "name": "ipython",
    "version": 3
   },
   "file_extension": ".py",
   "mimetype": "text/x-python",
   "name": "python",
   "nbconvert_exporter": "python",
   "pygments_lexer": "ipython3",
   "version": "3.8.8"
  }
 },
 "nbformat": 4,
 "nbformat_minor": 5
}
